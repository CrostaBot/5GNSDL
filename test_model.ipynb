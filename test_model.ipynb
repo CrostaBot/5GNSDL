{
 "cells": [
  {
   "cell_type": "code",
   "execution_count": 7,
   "metadata": {},
   "outputs": [],
   "source": [
    "import tensorflow as tf\n",
    "from tensorflow import keras\n",
    "import numpy as np\n",
    "\n",
    "model = tf.keras.models.load_model('model.h5')"
   ]
  },
  {
   "cell_type": "code",
   "execution_count": 9,
   "metadata": {},
   "outputs": [
    {
     "name": "stdout",
     "output_type": "stream",
     "text": [
      "[[[1.79407783 0.41590622 0.01553655 0.01553655 0.01341792 0.01341792\n",
      "   0.0098917  0.0098917  0.01926529 0.0032     0.54204761]]]\n",
      "[0.941115   0.00928662 0.0093988  0.00580853 0.01204275]\n"
     ]
    }
   ],
   "source": [
    "# test\n",
    "\n",
    "# Prediction with new input value\n",
    "test = [[[35881556553, 8318124338, 310731060, 310731060, 268358393, 268358393, 197834085, 197834085, 385305779, 64000000, 10840952124]]]\n",
    "test = np.array(test)/20000000000\n",
    "\n",
    "print(test)\n",
    "\n",
    "prediction = model.predict(test)\n",
    "print(prediction[0])\n"
   ]
  },
  {
   "cell_type": "code",
   "execution_count": null,
   "metadata": {},
   "outputs": [],
   "source": []
  }
 ],
 "metadata": {
  "kernelspec": {
   "display_name": "Python 3",
   "language": "python",
   "name": "python3"
  },
  "language_info": {
   "codemirror_mode": {
    "name": "ipython",
    "version": 3
   },
   "file_extension": ".py",
   "mimetype": "text/x-python",
   "name": "python",
   "nbconvert_exporter": "python",
   "pygments_lexer": "ipython3",
   "version": "3.7.6"
  }
 },
 "nbformat": 4,
 "nbformat_minor": 4
}
