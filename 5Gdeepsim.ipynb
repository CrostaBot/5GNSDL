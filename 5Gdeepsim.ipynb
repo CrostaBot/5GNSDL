{
 "cells": [
  {
   "cell_type": "code",
   "execution_count": 10,
   "metadata": {},
   "outputs": [],
   "source": [
    "import matplotlib.pyplot as plt\n",
    "import random as r\n",
    "import pprint as pp\n",
    "import numpy as np"
   ]
  },
  {
   "cell_type": "code",
   "execution_count": 11,
   "metadata": {},
   "outputs": [],
   "source": [
    "# Define all structure\n",
    "# Define type of slice and its parameters\n",
    "slices = {\n",
    "    'eMBB' : {\n",
    "        'bandwidth_max': 100000000,\n",
    "        'client_weight': 0.3,\n",
    "        'usage_pattern': {\n",
    "            'distribution': 'randint',\n",
    "            'params': (4000000, 800000000)\n",
    "        }\n",
    "      },\n",
    "      'URLLC' : {\n",
    "        'bandwidth_max': 100000000,\n",
    "        'client_weight': 0.2,\n",
    "        'usage_pattern': {\n",
    "            'distribution': 'randint',\n",
    "            'params': (4000000, 800000000)\n",
    "        }\n",
    "      },\n",
    "      'MIoT' : {\n",
    "        'bandwidth_max': 100000000,\n",
    "        'client_weight': 0.15,\n",
    "        'usage_pattern': {\n",
    "            'distribution': 'randint',\n",
    "            'params': (4000000, 800000000)\n",
    "          }\n",
    "      },\n",
    "      'mMTC' : {\n",
    "        'bandwidth_max': 100000000,\n",
    "        'client_weight': 0.15,\n",
    "        'usage_pattern': {\n",
    "            'distribution': 'randint',\n",
    "            'params': (4000000, 800000000)\n",
    "          }\n",
    "      },\n",
    "      'voice' : {\n",
    "        'bandwidth_max': 100000000,\n",
    "        'client_weight': 0.2,\n",
    "        'usage_pattern': {\n",
    "            'distribution': 'randint',\n",
    "            'params': (4000000, 800000000)\n",
    "          }\n",
    "     }\n",
    "}\n",
    "          \n",
    "\n",
    "# Define base station parameters\n",
    "basestation = {\n",
    "    'capacity': 20000000000,\n",
    "    'coverage': 250,\n",
    "    'ratios': {\n",
    "        'URLLC': 0.01,\n",
    "        'eMBB': 0.59,\n",
    "        'mMTC': 0.05,\n",
    "        'voice': 0.05,\n",
    "        'MIoT': 0.2\n",
    "    },\n",
    "    'x': 200,\n",
    "    'y': 200\n",
    "}\n",
    "\n",
    "# Define mobility patterns and its parameters\n",
    "mobility_patterns = {\n",
    "  'car': {\n",
    "    'distribution': 'normal',\n",
    "    'params':(0,7),\n",
    "    'client_weight': 0.10\n",
    "  },\n",
    "  'walk': {\n",
    "    'distribution': 'randint',\n",
    "    'params': (-1, 1),\n",
    "    'client_weight': 0.40\n",
    "  },\n",
    "  'stationary': {\n",
    "    'distribution': 'normal',\n",
    "    'params': (0, 0.1),\n",
    "    'client_weight': 0.20\n",
    "  },\n",
    "  'tram': {\n",
    "    'distribution': 'randint',\n",
    "    'params': (-4, 4),\n",
    "    'client_weight': 0.10\n",
    "  },\n",
    "  'slackperson':{\n",
    "    'distribution': 'randint',\n",
    "    'params':(0, 1),\n",
    "    'client_weight': 0.20 \n",
    "  }\n",
    "}"
   ]
  },
  {
   "cell_type": "code",
   "execution_count": 12,
   "metadata": {},
   "outputs": [],
   "source": [
    "# Define obj Client\n",
    "class Client:\n",
    "    def __init__(self, name, x, y, mobility_pattern, slice_type):\n",
    "        self.name = name\n",
    "        self.x = x\n",
    "        self.y = y\n",
    "        self.mobility_pattern = mobility_pattern\n",
    "        self.slice_type = slice_type"
   ]
  },
  {
   "cell_type": "code",
   "execution_count": 13,
   "metadata": {},
   "outputs": [],
   "source": [
    "# Define obj Mobility \n",
    "class Mobility:\n",
    "    def __init__(self, name, distribution, params):\n",
    "        self.name = name\n",
    "        self.distribution = distribution\n",
    "        self.params = params"
   ]
  },
  {
   "cell_type": "code",
   "execution_count": 14,
   "metadata": {},
   "outputs": [],
   "source": [
    "# Define obj BaseStation\n",
    "class BaseStation:\n",
    "    def __init__(self, x, y, coverage, capacity):\n",
    "        self.x = x\n",
    "        self.y = y\n",
    "        self.coverage = coverage\n",
    "        self.capacity = capacity"
   ]
  },
  {
   "cell_type": "code",
   "execution_count": 15,
   "metadata": {},
   "outputs": [],
   "source": [
    "# Define obj Slice\n",
    "class Slice:\n",
    "    def __init__(self, name, bandwith_max):\n",
    "        self.name = name\n",
    "        self.bandwidth_max = bandwidth_max"
   ]
  },
  {
   "cell_type": "code",
   "execution_count": 16,
   "metadata": {},
   "outputs": [],
   "source": [
    "def get_random_mobility_pattern(vals, mobility_patterns):\n",
    "    i = 0\n",
    "    j = r.random()\n",
    "\n",
    "    while vals[i] < j:\n",
    "        i += 1\n",
    "\n",
    "    return mobility_patterns[i]\n",
    "\n",
    "\n",
    "def get_random_slice_type(vals):\n",
    "    i = 0\n",
    "    j = r.random()\n",
    "\n",
    "    while vals[i] < j:\n",
    "        i += 1\n",
    "    return i\n",
    "\n",
    "collected, slice_weights = 0, []\n",
    "for key, value in slices.items():\n",
    "    collected += value['client_weight']\n",
    "    slice_weights.append(collected)\n",
    "\n",
    "collected, mb_weights = 0, []\n",
    "for key, value in mobility_patterns.items():\n",
    "    collected += value['client_weight']\n",
    "    mb_weights.append(collected)\n",
    "    \n",
    "m_patterns = []\n",
    "for name, mb in mobility_patterns.items():\n",
    "    mobility_pattern = Mobility(name, mb['distribution'], mb['params'])\n",
    "    m_patterns.append(mobility_pattern)    "
   ]
  },
  {
   "cell_type": "code",
   "execution_count": 17,
   "metadata": {},
   "outputs": [
    {
     "data": {
      "image/png": "[encoded data removed]",
      "text/plain": [
       "<Figure size 432x288 with 1 Axes>"
      ]
     },
     "metadata": {
      "needs_background": "light"
     },
     "output_type": "display_data"
    }
   ],
   "source": [
    "# Round 0: create network area, place base station and clients\n",
    "num_clients = 200\n",
    "simulation_time = 10\n",
    "x_area = 450\n",
    "y_area = 450\n",
    "\n",
    "clients = []\n",
    "for i in range(num_clients):\n",
    "    x = r.randint(0, x_area)\n",
    "    y = r.randint(0, y_area)\n",
    "    \n",
    "    mobility_pattern = get_random_mobility_pattern(mb_weights, m_patterns)\n",
    "    slice_type = get_random_slice_type(slice_weights)\n",
    "    \n",
    "    c = Client(i, x, y, mobility_pattern, slice_type)\n",
    "    \n",
    "    clients.append(c)\n",
    " \n",
    "base_station = BaseStation(basestation.get('x'), basestation.get('y'), basestation.get('coverage'), basestation.get('capacity'))\n",
    "\n",
    "ax = plt.gca()\n",
    "plt.axis('equal')\n",
    "ax.set_xlim(0, x_area)\n",
    "ax.set_ylim(0, y_area)\n",
    "ax.plot(base_station.x, base_station.y, 'o', color='blue')\n",
    "circle = plt.Circle((base_station.x,base_station.y), radius = base_station.coverage, fill=False, color='blue')\n",
    "ax.add_artist(circle)\n",
    "    \n",
    "for i in range(num_clients):\n",
    "    ax.plot(clients[i].x, clients[i].y,'.',color='red')"
   ]
  },
  {
   "cell_type": "code",
   "execution_count": 30,
   "metadata": {},
   "outputs": [
    {
     "data": {
      "text/plain": [
       "False"
      ]
     },
     "execution_count": 30,
     "metadata": {},
     "output_type": "execute_result"
    }
   ],
   "source": [
    "def isConnected(client, bs):\n",
    "    if abs(client.x - bs.x < bs.coverage) and abs(client.y - bs.y < bs.coverage):\n",
    "        print('True')\n",
    "        return True\n",
    "    else:\n",
    "        return False\n",
    "        print('False')\n",
    "    \n",
    "    \n",
    "       \n",
    "c = Client(10, 200, 500, get_random_mobility_pattern(mb_weights, m_patterns), get_random_slice_type(slice_weights))\n",
    "station = BaseStation(basestation.get('x'), basestation.get('y'), basestation.get('coverage'), basestation.get('capacity'))\n",
    "\n",
    "isConnected(c, station)"
   ]
  },
  {
   "cell_type": "code",
   "execution_count": null,
   "metadata": {},
   "outputs": [],
   "source": []
  }
 ],
 "metadata": {
  "kernelspec": {
   "display_name": "Python 3",
   "language": "python",
   "name": "python3"
  },
  "language_info": {
   "codemirror_mode": {
    "name": "ipython",
    "version": 3
   },
   "file_extension": ".py",
   "mimetype": "text/x-python",
   "name": "python",
   "nbconvert_exporter": "python",
   "pygments_lexer": "ipython3",
   "version": "3.7.3"
  }
 },
 "nbformat": 4,
 "nbformat_minor": 4
}
