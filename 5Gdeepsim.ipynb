{
 "cells": [
  {
   "cell_type": "code",
   "execution_count": 13,
   "metadata": {},
   "outputs": [],
   "source": [
    "import matplotlib.pyplot as plt"
   ]
  },
  {
   "cell_type": "code",
   "execution_count": 14,
   "metadata": {},
   "outputs": [],
   "source": [
    "# Define all structure\n",
    "# Define type of slice and its parameters\n",
    "slices = {\n",
    "    'eMBB' : {\n",
    "        'bandwidth_max': 100000000,\n",
    "        'client_weight': 0.39,\n",
    "        'usage_pattern': {\n",
    "            'distribution': 'randint',\n",
    "            'params': (4000000, 800000000)\n",
    "        }\n",
    "      },\n",
    "      'URLLC' : {\n",
    "        'bandwidth_max': 100000000,\n",
    "        'client_weight': 0.39,\n",
    "        'usage_pattern': {\n",
    "            'distribution': 'randint',\n",
    "            'params': (4000000, 800000000)\n",
    "        }\n",
    "      },\n",
    "      'MIoT' : {\n",
    "        'bandwidth_max': 100000000,\n",
    "        'client_weight': 0.39,\n",
    "        'usage_pattern': {\n",
    "            'distribution': 'randint',\n",
    "            'params': (4000000, 800000000)\n",
    "          }\n",
    "      },\n",
    "      'mMTC' : {\n",
    "        'bandwidth_max': 100000000,\n",
    "        'client_weight': 0.39,\n",
    "        'usage_pattern': {\n",
    "            'distribution': 'randint',\n",
    "            'params': (4000000, 800000000)\n",
    "          }\n",
    "      },\n",
    "      'voice' : {\n",
    "        'bandwidth_max': 100000000,\n",
    "        'client_weight': 0.39,\n",
    "        'usage_pattern': {\n",
    "            'distribution': 'randint',\n",
    "            'params': (4000000, 800000000)\n",
    "          }\n",
    "     }\n",
    "}\n",
    "          \n",
    "\n",
    "# Define base station parameters\n",
    "basestation = {\n",
    "    'capacity_bandwidth': 20000000000,\n",
    "    'coverage': 250,\n",
    "    'ratios': {\n",
    "        'URLLC': 0.01,\n",
    "        'eMBB': 0.59,\n",
    "        'mMTC': 0.05,\n",
    "        'voice': 0.05,\n",
    "        'MIoT': 0.2\n",
    "    },\n",
    "    'x': 150,\n",
    "    'y': 150\n",
    "}\n",
    "\n",
    "# Define mobility patterns and its parameters\n",
    "mobility_patterns = {\n",
    "  'car': {\n",
    "    'distribution': 'normal',\n",
    "    'params':(0,7),\n",
    "    'client_weight': 0.10\n",
    "  },\n",
    "  'walk': {\n",
    "    'distribution': 'randint',\n",
    "    'params': (-1, 1),\n",
    "    'client_weight': 0.40\n",
    "  },\n",
    "  'stationary': {\n",
    "    'distribution': 'normal',\n",
    "    'params': (0, 0.1),\n",
    "    'client_weight': 0.20\n",
    "  },\n",
    "  'tram': {\n",
    "    'distribution': 'randint',\n",
    "    'params': (-4, 4),\n",
    "    'client_weight': 0.10\n",
    "  },\n",
    "  'slackperson':{\n",
    "    'distribution': 'randint',\n",
    "    'params':(0, 1),\n",
    "    'client_weight': 0.20 \n",
    "  }\n",
    "}\n",
    "\n",
    "# Define clients\n",
    "clients = {\n",
    "    'location': {\n",
    "       'x': {\n",
    "          'distribution': 'randint',\n",
    "          'params': (0, 450)\n",
    "       },\n",
    "      'y': {\n",
    "          'distribution': 'randint',\n",
    "          'params': (0, 450)\n",
    "       }\n",
    "     },  \n",
    "    'usage_frequency': {\n",
    "        'distribution': 'randint',\n",
    "        'params': (0, 100000)\n",
    "    }\n",
    "}\n",
    "\n"
   ]
  },
  {
   "cell_type": "code",
   "execution_count": 16,
   "metadata": {},
   "outputs": [
    {
     "data": {
      "image/png": "[encoded data removed]",
      "text/plain": [
       "<Figure size 432x288 with 1 Axes>"
      ]
     },
     "metadata": {
      "needs_background": "light"
     },
     "output_type": "display_data"
    }
   ],
   "source": [
    "# Round 0: create network area, place base station and clients\n",
    "num_clients = 200\n",
    "\n",
    "plt.plot([1])\n",
    "plt.show()"
   ]
  },
  {
   "cell_type": "code",
   "execution_count": null,
   "metadata": {},
   "outputs": [],
   "source": []
  }
 ],
 "metadata": {
  "kernelspec": {
   "display_name": "Python 3",
   "language": "python",
   "name": "python3"
  },
  "language_info": {
   "codemirror_mode": {
    "name": "ipython",
    "version": 3
   },
   "file_extension": ".py",
   "mimetype": "text/x-python",
   "name": "python",
   "nbconvert_exporter": "python",
   "pygments_lexer": "ipython3",
   "version": "3.7.6"
  }
 },
 "nbformat": 4,
 "nbformat_minor": 4
}
