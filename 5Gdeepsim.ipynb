{
 "cells": [
  {
   "cell_type": "code",
<<<<<<< HEAD
   "execution_count": 10,
=======
   "execution_count": 27,
>>>>>>> 1130d09957622289b058b6539dbfe5fc475f446e
   "metadata": {},
   "outputs": [],
   "source": [
    "import matplotlib.pyplot as plt\n",
    "import random as r\n",
    "import pprint as pp\n",
    "import numpy as np"
   ]
  },
  {
   "cell_type": "code",
<<<<<<< HEAD
   "execution_count": 11,
=======
   "execution_count": 28,
>>>>>>> 1130d09957622289b058b6539dbfe5fc475f446e
   "metadata": {},
   "outputs": [],
   "source": [
    "# Define all structure\n",
    "# Define type of slice and its parameters\n",
    "slices_type = {\n",
    "    'eMBB' : {\n",
    "        'bandwidth_max': 100000000, #max bandwidth which BS can give to this slice\n",
    "        'client_weight': 0.3, # Portion of clients which use this type of slice\n",
    "        'distribution': 'randint',\n",
    "        'params': (4000000, 800000000) # how much bps can require this type of dlice\n",
    "      },\n",
    "      'URLLC' : {\n",
    "        'bandwidth_max': 100000000,\n",
    "        'client_weight': 0.2,\n",
    "        'distribution': 'randint',\n",
    "        'params': (4000000, 800000000)\n",
    "      },\n",
    "      'MIoT' : {\n",
    "        'bandwidth_max': 100000000,\n",
    "        'client_weight': 0.15,\n",
    "        'distribution': 'randint',\n",
    "        'params': (4000000, 800000000)\n",
    "      },\n",
    "      'mMTC' : {\n",
    "        'bandwidth_max': 100000000,\n",
    "        'client_weight': 0.15,\n",
    "        'distribution': 'randint',\n",
    "        'params': (4000000, 800000000)\n",
    "      },\n",
    "      'voice' : {\n",
    "        'bandwidth_max': 100000000,\n",
    "        'client_weight': 0.2,\n",
    "        'distribution': 'randint',\n",
    "        'params': (4000000, 800000000)\n",
    "     }\n",
    "}\n",
    "          \n",
    "\n",
    "# Define base station parameters\n",
    "basestation = {\n",
    "    'capacity': 20000000000, \n",
    "    'coverage': 250,\n",
    "    'ratios': { # portion of capacity dedicated to various slice type\n",
    "        'URLLC': 0.01,\n",
    "        'eMBB': 0.59,\n",
    "        'mMTC': 0.05,\n",
    "        'voice': 0.05,\n",
    "        'MIoT': 0.2\n",
    "    },\n",
    "    'x': 200,\n",
    "    'y': 200\n",
    "}\n",
    "\n",
    "# Define mobility patterns and its parameters\n",
    "mobility_patterns = {\n",
    "  'car': {\n",
    "    'distribution': 'normal',\n",
    "    'params':(0,7),\n",
    "    'client_weight': 0.10\n",
    "  },\n",
    "  'walk': {\n",
    "    'distribution': 'randint',\n",
    "    'params': (-1, 1),\n",
    "    'client_weight': 0.40\n",
    "  },\n",
    "  'stationary': {\n",
    "    'distribution': 'normal',\n",
    "    'params': (0, 0.1),\n",
    "    'client_weight': 0.20\n",
    "  },\n",
    "  'tram': {\n",
    "    'distribution': 'randint',\n",
    "    'params': (-4, 4),\n",
    "    'client_weight': 0.10\n",
    "  },\n",
    "  'slackperson':{\n",
    "    'distribution': 'randint',\n",
    "    'params':(0, 1),\n",
    "    'client_weight': 0.20 \n",
    "  }\n",
    "}"
   ]
  },
  {
   "cell_type": "code",
<<<<<<< HEAD
   "execution_count": 12,
=======
   "execution_count": 29,
>>>>>>> 1130d09957622289b058b6539dbfe5fc475f446e
   "metadata": {},
   "outputs": [],
   "source": [
    "# Define obj Client\n",
    "class Client:\n",
    "    def __init__(self, name, x, y, mobility_pattern, slice_type):\n",
    "        self.name = name\n",
    "        self.x = x\n",
    "        self.y = y\n",
    "        self.mobility_pattern = mobility_pattern\n",
    "        self.slice_type = slice_type"
   ]
  },
  {
   "cell_type": "code",
<<<<<<< HEAD
   "execution_count": 13,
=======
   "execution_count": 30,
>>>>>>> 1130d09957622289b058b6539dbfe5fc475f446e
   "metadata": {},
   "outputs": [],
   "source": [
    "# Define obj Mobility \n",
    "class Mobility:\n",
    "    def __init__(self, name, distribution, params):\n",
    "        self.name = name\n",
    "        self.distribution = distribution\n",
    "        self.params = params"
   ]
  },
  {
   "cell_type": "code",
<<<<<<< HEAD
   "execution_count": 14,
=======
   "execution_count": 31,
>>>>>>> 1130d09957622289b058b6539dbfe5fc475f446e
   "metadata": {},
   "outputs": [],
   "source": [
    "# Define obj BaseStation\n",
    "class BaseStation:\n",
    "    def __init__(self, x, y, coverage, capacity):\n",
    "        self.x = x\n",
    "        self.y = y\n",
    "        self.coverage = coverage\n",
    "        self.capacity = capacity"
   ]
  },
  {
   "cell_type": "code",
<<<<<<< HEAD
   "execution_count": 15,
=======
   "execution_count": 43,
>>>>>>> 1130d09957622289b058b6539dbfe5fc475f446e
   "metadata": {},
   "outputs": [],
   "source": [
    "# Define obj Slice\n",
    "class Slice:\n",
    "    def __init__(self, name, bandwidth_max, distribution, params):\n",
    "        self.name = name\n",
    "        self.bandwidth_max = bandwidth_max\n",
    "        self.distribution = distribution\n",
    "        self.params = params"
   ]
  },
  {
   "cell_type": "code",
<<<<<<< HEAD
   "execution_count": 16,
=======
   "execution_count": 44,
>>>>>>> 1130d09957622289b058b6539dbfe5fc475f446e
   "metadata": {},
   "outputs": [],
   "source": [
    "def get_random_mobility_pattern(vals, mobility_patterns):\n",
    "    i = 0\n",
    "    j = r.random()\n",
    "\n",
    "    while vals[i] < j:\n",
    "        i += 1\n",
    "\n",
    "    return mobility_patterns[i]\n",
    "\n",
    "\n",
    "def get_random_slice_type(vals):\n",
    "    i = 0\n",
    "    j = r.random()\n",
    "\n",
    "    while vals[i] < j:\n",
    "        i += 1\n",
    "    return i\n",
    "\n",
    "collected, slice_weights = 0, []\n",
    "for key, value in slices_type.items():\n",
    "    collected += value['client_weight']\n",
    "    slice_weights.append(collected)\n",
    "\n",
    "collected, mb_weights = 0, []\n",
    "for key, value in mobility_patterns.items():\n",
    "    collected += value['client_weight']\n",
    "    mb_weights.append(collected)\n",
    "    \n",
    "m_patterns = []\n",
    "for name, mb in mobility_patterns.items():\n",
    "    mobility_pattern = Mobility(name, mb['distribution'], mb['params'])\n",
    "    m_patterns.append(mobility_pattern)    "
   ]
  },
  {
   "cell_type": "code",
<<<<<<< HEAD
   "execution_count": 17,
=======
   "execution_count": 45,
>>>>>>> 1130d09957622289b058b6539dbfe5fc475f446e
   "metadata": {},
   "outputs": [
    {
     "data": {
<<<<<<< HEAD
      "image/png": "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\n",
=======
      "image/png": "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\n",
>>>>>>> 1130d09957622289b058b6539dbfe5fc475f446e
      "text/plain": [
       "<Figure size 432x288 with 1 Axes>"
      ]
     },
     "metadata": {
      "needs_background": "light"
     },
     "output_type": "display_data"
    }
   ],
   "source": [
    "# Round 0: create network area, place base station and clients\n",
    "num_clients = 200\n",
    "simulation_time = 10\n",
    "x_area = 400\n",
    "y_area = 400\n",
    "\n",
    "clients = []\n",
    "for i in range(num_clients):\n",
    "    x = r.randint(0, x_area)\n",
    "    y = r.randint(0, y_area)\n",
    "    \n",
    "    mobility_pattern = get_random_mobility_pattern(mb_weights, m_patterns)\n",
    "    slice_type = get_random_slice_type(slice_weights)\n",
    "    \n",
    "    c = Client(i, x, y, mobility_pattern, slice_type)\n",
    "    \n",
    "    clients.append(c)\n",
    " \n",
    "base_station = BaseStation(basestation.get('x'), basestation.get('y'), basestation.get('coverage'), basestation.get('capacity'))\n",
    "\n",
    "ax = plt.gca()\n",
    "plt.axis('equal')\n",
    "ax.set_xlim(0, x_area)\n",
    "ax.set_ylim(0, y_area)\n",
    "ax.plot(base_station.x, base_station.y, 'o', color='blue')\n",
    "circle = plt.Circle((base_station.x,base_station.y), radius = base_station.coverage, fill=False, color='blue')\n",
    "ax.add_artist(circle)\n",
    "    \n",
    "for i in range(num_clients):\n",
    "    ax.plot(clients[i].x, clients[i].y,'.',color='red')"
   ]
  },
  {
   "cell_type": "code",
<<<<<<< HEAD
   "execution_count": 30,
   "metadata": {},
   "outputs": [
    {
     "data": {
      "text/plain": [
       "False"
      ]
     },
     "execution_count": 30,
     "metadata": {},
     "output_type": "execute_result"
    }
   ],
   "source": [
    "def isConnected(client, bs):\n",
    "    if abs(client.x - bs.x < bs.coverage) and abs(client.y - bs.y < bs.coverage):\n",
    "        print('True')\n",
    "        return True\n",
    "    else:\n",
    "        return False\n",
    "        print('False')\n",
    "    \n",
    "    \n",
    "       \n",
    "c = Client(10, 200, 500, get_random_mobility_pattern(mb_weights, m_patterns), get_random_slice_type(slice_weights))\n",
    "station = BaseStation(basestation.get('x'), basestation.get('y'), basestation.get('coverage'), basestation.get('capacity'))\n",
    "\n",
    "isConnected(c, station)"
=======
   "execution_count": 46,
   "metadata": {},
   "outputs": [],
   "source": [
    "# Define slices\n",
    "\n",
    "slices = []\n",
    "for key, value in slices_type.items():\n",
    "    s = Slice(key, value['bandwidth_max'], value['distribution'], value['params'])\n",
    "    \n",
    "    slices.append(s)"
>>>>>>> 1130d09957622289b058b6539dbfe5fc475f446e
   ]
  },
  {
   "cell_type": "code",
   "execution_count": null,
   "metadata": {},
   "outputs": [],
   "source": []
  }
 ],
 "metadata": {
  "kernelspec": {
   "display_name": "Python 3",
   "language": "python",
   "name": "python3"
  },
  "language_info": {
   "codemirror_mode": {
    "name": "ipython",
    "version": 3
   },
   "file_extension": ".py",
   "mimetype": "text/x-python",
   "name": "python",
   "nbconvert_exporter": "python",
   "pygments_lexer": "ipython3",
   "version": "3.7.3"
  }
 },
 "nbformat": 4,
 "nbformat_minor": 4
}
